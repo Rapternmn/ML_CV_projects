{
 "cells": [
  {
   "cell_type": "code",
   "execution_count": 66,
   "metadata": {},
   "outputs": [],
   "source": [
    "import numpy as np \n",
    "import pandas as pd\n",
    "import matplotlib.pyplot as plt\n",
    "%matplotlib inline\n",
    "plt.rcParams['figure.figsize'] = (10.0, 8.0)\n",
    "import seaborn as sns\n",
    "from scipy import stats\n",
    "from scipy.stats import norm\n",
    "\n",
    "import xgboost as xgb\n",
    "\n",
    "from sklearn import preprocessing\n",
    "from sklearn import metrics, model_selection\n",
    "from sklearn.metrics import confusion_matrix, classification_report\n",
    "from sklearn.preprocessing import StandardScaler, LabelEncoder\n",
    "from sklearn.decomposition import PCA\n",
    "from sklearn.model_selection import train_test_split\n",
    "# import dataloader\n",
    "\n",
    "from sklearn.metrics import precision_recall_fscore_support,classification_report,accuracy_score,roc_auc_score\n",
    "import random\n",
    "\n",
    "from sklearn.model_selection import train_test_split,KFold"
   ]
  },
  {
   "cell_type": "code",
   "execution_count": 25,
   "metadata": {},
   "outputs": [],
   "source": [
    "def shuffle_data(X_, y_):\n",
    "    N   = X_.shape[0]\n",
    "    N_f = X_.shape[1]\n",
    "    data = []\n",
    "\n",
    "    for i in range(N):\n",
    "        feat = X_[i, :]\n",
    "        label = float(y_[i])\n",
    "        data.append((feat, label))\n",
    "\n",
    "    random.shuffle(data)\n",
    "\n",
    "    #rebuild X and y\n",
    "    X =  np.zeros((N, N_f))\n",
    "    y = -np.ones((N,)) #negative value to audit ingress code\n",
    "\n",
    "    for i in range(N):\n",
    "        X_1, y_1 = data[i]\n",
    "        X[i, :] = X_1\n",
    "        y[i]    = y_1\n",
    "\n",
    "    return X, y"
   ]
  },
  {
   "cell_type": "code",
   "execution_count": 27,
   "metadata": {},
   "outputs": [],
   "source": [
    "train = pd.read_csv('flight_delays_train.csv')\n",
    "test = pd.read_csv('flight_delays_test.csv')"
   ]
  },
  {
   "cell_type": "code",
   "execution_count": 28,
   "metadata": {},
   "outputs": [
    {
     "data": {
      "text/html": [
       "<div>\n",
       "<style scoped>\n",
       "    .dataframe tbody tr th:only-of-type {\n",
       "        vertical-align: middle;\n",
       "    }\n",
       "\n",
       "    .dataframe tbody tr th {\n",
       "        vertical-align: top;\n",
       "    }\n",
       "\n",
       "    .dataframe thead th {\n",
       "        text-align: right;\n",
       "    }\n",
       "</style>\n",
       "<table border=\"1\" class=\"dataframe\">\n",
       "  <thead>\n",
       "    <tr style=\"text-align: right;\">\n",
       "      <th></th>\n",
       "      <th>Month</th>\n",
       "      <th>DayofMonth</th>\n",
       "      <th>DayOfWeek</th>\n",
       "      <th>DepTime</th>\n",
       "      <th>UniqueCarrier</th>\n",
       "      <th>Origin</th>\n",
       "      <th>Dest</th>\n",
       "      <th>Distance</th>\n",
       "      <th>dep_delayed_15min</th>\n",
       "    </tr>\n",
       "  </thead>\n",
       "  <tbody>\n",
       "    <tr>\n",
       "      <th>0</th>\n",
       "      <td>c-8</td>\n",
       "      <td>c-21</td>\n",
       "      <td>c-7</td>\n",
       "      <td>1934</td>\n",
       "      <td>AA</td>\n",
       "      <td>ATL</td>\n",
       "      <td>DFW</td>\n",
       "      <td>732</td>\n",
       "      <td>N</td>\n",
       "    </tr>\n",
       "    <tr>\n",
       "      <th>1</th>\n",
       "      <td>c-4</td>\n",
       "      <td>c-20</td>\n",
       "      <td>c-3</td>\n",
       "      <td>1548</td>\n",
       "      <td>US</td>\n",
       "      <td>PIT</td>\n",
       "      <td>MCO</td>\n",
       "      <td>834</td>\n",
       "      <td>N</td>\n",
       "    </tr>\n",
       "    <tr>\n",
       "      <th>2</th>\n",
       "      <td>c-9</td>\n",
       "      <td>c-2</td>\n",
       "      <td>c-5</td>\n",
       "      <td>1422</td>\n",
       "      <td>XE</td>\n",
       "      <td>RDU</td>\n",
       "      <td>CLE</td>\n",
       "      <td>416</td>\n",
       "      <td>N</td>\n",
       "    </tr>\n",
       "    <tr>\n",
       "      <th>3</th>\n",
       "      <td>c-11</td>\n",
       "      <td>c-25</td>\n",
       "      <td>c-6</td>\n",
       "      <td>1015</td>\n",
       "      <td>OO</td>\n",
       "      <td>DEN</td>\n",
       "      <td>MEM</td>\n",
       "      <td>872</td>\n",
       "      <td>N</td>\n",
       "    </tr>\n",
       "    <tr>\n",
       "      <th>4</th>\n",
       "      <td>c-10</td>\n",
       "      <td>c-7</td>\n",
       "      <td>c-6</td>\n",
       "      <td>1828</td>\n",
       "      <td>WN</td>\n",
       "      <td>MDW</td>\n",
       "      <td>OMA</td>\n",
       "      <td>423</td>\n",
       "      <td>Y</td>\n",
       "    </tr>\n",
       "  </tbody>\n",
       "</table>\n",
       "</div>"
      ],
      "text/plain": [
       "  Month DayofMonth DayOfWeek  DepTime UniqueCarrier Origin Dest  Distance  \\\n",
       "0   c-8       c-21       c-7     1934            AA    ATL  DFW       732   \n",
       "1   c-4       c-20       c-3     1548            US    PIT  MCO       834   \n",
       "2   c-9        c-2       c-5     1422            XE    RDU  CLE       416   \n",
       "3  c-11       c-25       c-6     1015            OO    DEN  MEM       872   \n",
       "4  c-10        c-7       c-6     1828            WN    MDW  OMA       423   \n",
       "\n",
       "  dep_delayed_15min  \n",
       "0                 N  \n",
       "1                 N  \n",
       "2                 N  \n",
       "3                 N  \n",
       "4                 Y  "
      ]
     },
     "execution_count": 28,
     "metadata": {},
     "output_type": "execute_result"
    }
   ],
   "source": [
    "train.head()"
   ]
  },
  {
   "cell_type": "code",
   "execution_count": 29,
   "metadata": {},
   "outputs": [],
   "source": [
    "X = train[['Distance', 'DepTime']]\n",
    "Y = train['dep_delayed_15min'].map({'Y': 1, 'N': 0})\n",
    "# Y = pd.DataFrame(Y,columns=['label'])"
   ]
  },
  {
   "cell_type": "code",
   "execution_count": 30,
   "metadata": {},
   "outputs": [],
   "source": [
    "X_Train, X_valid, y_Train, y_valid = train_test_split(X, Y, test_size=0.20, random_state=42)"
   ]
  },
  {
   "cell_type": "code",
   "execution_count": 56,
   "metadata": {},
   "outputs": [
    {
     "data": {
      "text/plain": [
       "0.7062682474290187"
      ]
     },
     "execution_count": 56,
     "metadata": {},
     "output_type": "execute_result"
    }
   ],
   "source": [
    "xgb_model = xgb.XGBClassifier(seed=17)\n",
    "\n",
    "xgb_model.fit(X_Train, y_Train)\n",
    "xgb_valid_pred = xgb_model.predict_proba(X_valid)[:, 1]\n",
    "\n",
    "roc_auc_score(y_valid, xgb_valid_pred)"
   ]
  },
  {
   "cell_type": "code",
   "execution_count": 57,
   "metadata": {},
   "outputs": [
    {
     "data": {
      "text/plain": [
       "0.712943503123907"
      ]
     },
     "execution_count": 57,
     "metadata": {},
     "output_type": "execute_result"
    }
   ],
   "source": [
    "xgb_model = xgb.XGBClassifier(max_depth = 8, seed=17)\n",
    "\n",
    "xgb_model.fit(X_Train, y_Train)\n",
    "xgb_valid_pred = xgb_model.predict_proba(X_valid)[:, 1]\n",
    "\n",
    "roc_auc_score(y_valid, xgb_valid_pred)"
   ]
  },
  {
   "cell_type": "code",
   "execution_count": 63,
   "metadata": {},
   "outputs": [
    {
     "data": {
      "text/plain": [
       "0.6912267823258795"
      ]
     },
     "execution_count": 63,
     "metadata": {},
     "output_type": "execute_result"
    }
   ],
   "source": [
    "xgb_model = xgb.XGBClassifier(max_depth =20, seed=17, n_estimators = 500)\n",
    "\n",
    "xgb_model.fit(X_Train, y_Train)\n",
    "xgb_valid_pred = xgb_model.predict_proba(X_valid)[:, 1]\n",
    "\n",
    "roc_auc_score(y_valid, xgb_valid_pred)"
   ]
  },
  {
   "cell_type": "code",
   "execution_count": 67,
   "metadata": {},
   "outputs": [],
   "source": [
    "# Parameter Tuning\n",
    "model = xgb.XGBClassifier()\n",
    "param_dist = {\"max_depth\": [3, 6, 9, 12], # default 6\n",
    "              \"min_child_weight\" : [1], # default 1\n",
    "              \"n_estimators\": [100, 150], # default 100\n",
    "              \"learning_rate\": [0.05, 0.1, 0.15], # default 0.1\n",
    "             } \n",
    "\n",
    "grid_search = model_selection.GridSearchCV(model, param_grid=param_dist, cv = 3, verbose=10, n_jobs=-1, scoring='roc_auc')"
   ]
  },
  {
   "cell_type": "code",
   "execution_count": 69,
   "metadata": {},
   "outputs": [
    {
     "name": "stdout",
     "output_type": "stream",
     "text": [
      "Fitting 3 folds for each of 24 candidates, totalling 72 fits\n",
      "[CV] n_estimators=100, learning_rate=0.05, max_depth=3, min_child_weight=1 \n",
      "[CV] n_estimators=100, learning_rate=0.05, max_depth=3, min_child_weight=1 \n",
      "[CV] n_estimators=100, learning_rate=0.05, max_depth=3, min_child_weight=1 \n",
      "[CV] n_estimators=150, learning_rate=0.05, max_depth=3, min_child_weight=1 \n",
      "[CV] n_estimators=150, learning_rate=0.05, max_depth=3, min_child_weight=1 \n",
      "[CV] n_estimators=150, learning_rate=0.05, max_depth=3, min_child_weight=1 \n",
      "[CV] n_estimators=100, learning_rate=0.05, max_depth=6, min_child_weight=1 \n",
      "[CV] n_estimators=100, learning_rate=0.05, max_depth=6, min_child_weight=1 \n",
      "[CV]  n_estimators=100, learning_rate=0.05, max_depth=3, min_child_weight=1, score=0.693446207056, total=   1.3s\n",
      "[CV] n_estimators=100, learning_rate=0.05, max_depth=6, min_child_weight=1 \n",
      "[CV]  n_estimators=100, learning_rate=0.05, max_depth=3, min_child_weight=1, score=0.692188394069, total=   1.3s\n",
      "[CV] n_estimators=150, learning_rate=0.05, max_depth=6, min_child_weight=1 \n",
      "[CV]  n_estimators=100, learning_rate=0.05, max_depth=3, min_child_weight=1, score=0.70436883289, total=   1.4s\n",
      "[CV] n_estimators=150, learning_rate=0.05, max_depth=6, min_child_weight=1 \n"
     ]
    },
    {
     "name": "stderr",
     "output_type": "stream",
     "text": [
      "[Parallel(n_jobs=-1)]: Done   2 tasks      | elapsed:    1.6s\n"
     ]
    },
    {
     "name": "stdout",
     "output_type": "stream",
     "text": [
      "[CV]  n_estimators=150, learning_rate=0.05, max_depth=3, min_child_weight=1, score=0.693371555685, total=   1.9s\n",
      "[CV] n_estimators=150, learning_rate=0.05, max_depth=6, min_child_weight=1 \n",
      "[CV]  n_estimators=150, learning_rate=0.05, max_depth=3, min_child_weight=1, score=0.694168797718, total=   2.1s\n",
      "[CV] n_estimators=100, learning_rate=0.05, max_depth=9, min_child_weight=1 \n",
      "[CV]  n_estimators=150, learning_rate=0.05, max_depth=3, min_child_weight=1, score=0.705175977593, total=   2.2s\n",
      "[CV] n_estimators=100, learning_rate=0.05, max_depth=9, min_child_weight=1 \n",
      "[CV]  n_estimators=100, learning_rate=0.05, max_depth=6, min_child_weight=1, score=0.695366552664, total=   2.5s\n",
      "[CV] n_estimators=100, learning_rate=0.05, max_depth=9, min_child_weight=1 \n",
      "[CV]  n_estimators=100, learning_rate=0.05, max_depth=6, min_child_weight=1, score=0.693745154036, total=   2.6s\n",
      "[CV] n_estimators=150, learning_rate=0.05, max_depth=9, min_child_weight=1 \n",
      "[CV]  n_estimators=100, learning_rate=0.05, max_depth=6, min_child_weight=1, score=0.706527940757, total=   2.7s\n",
      "[CV] n_estimators=150, learning_rate=0.05, max_depth=9, min_child_weight=1 \n"
     ]
    },
    {
     "name": "stderr",
     "output_type": "stream",
     "text": [
      "[Parallel(n_jobs=-1)]: Done   9 tasks      | elapsed:    4.7s\n"
     ]
    },
    {
     "name": "stdout",
     "output_type": "stream",
     "text": [
      "[CV]  n_estimators=150, learning_rate=0.05, max_depth=6, min_child_weight=1, score=0.694706747469, total=   3.8s\n",
      "[CV] n_estimators=150, learning_rate=0.05, max_depth=9, min_child_weight=1 \n",
      "[CV]  n_estimators=150, learning_rate=0.05, max_depth=6, min_child_weight=1, score=0.695910330641, total=   3.8s\n",
      "[CV] n_estimators=100, learning_rate=0.05, max_depth=12, min_child_weight=1 \n",
      "[CV]  n_estimators=150, learning_rate=0.05, max_depth=6, min_child_weight=1, score=0.70717317924, total=   3.7s\n",
      "[CV] n_estimators=100, learning_rate=0.05, max_depth=12, min_child_weight=1 \n",
      "[CV]  n_estimators=100, learning_rate=0.05, max_depth=9, min_child_weight=1, score=0.692915765697, total=   4.1s\n",
      "[CV] n_estimators=100, learning_rate=0.05, max_depth=12, min_child_weight=1 \n",
      "[CV]  n_estimators=100, learning_rate=0.05, max_depth=9, min_child_weight=1, score=0.695612298874, total=   4.1s\n",
      "[CV] n_estimators=150, learning_rate=0.05, max_depth=12, min_child_weight=1 \n",
      "[CV]  n_estimators=100, learning_rate=0.05, max_depth=9, min_child_weight=1, score=0.703725079075, total=   4.3s\n",
      "[CV] n_estimators=150, learning_rate=0.05, max_depth=12, min_child_weight=1 \n",
      "[CV]  n_estimators=150, learning_rate=0.05, max_depth=9, min_child_weight=1, score=0.693909364284, total=   5.7s\n",
      "[CV] n_estimators=150, learning_rate=0.05, max_depth=12, min_child_weight=1 \n"
     ]
    },
    {
     "name": "stderr",
     "output_type": "stream",
     "text": [
      "[Parallel(n_jobs=-1)]: Done  16 tasks      | elapsed:   10.3s\n"
     ]
    },
    {
     "name": "stdout",
     "output_type": "stream",
     "text": [
      "[CV]  n_estimators=150, learning_rate=0.05, max_depth=9, min_child_weight=1, score=0.695690187642, total=   5.8s\n",
      "[CV] n_estimators=100, learning_rate=0.1, max_depth=3, min_child_weight=1 \n",
      "[CV]  n_estimators=100, learning_rate=0.1, max_depth=3, min_child_weight=1, score=0.693864345797, total=   1.4s\n",
      "[CV] n_estimators=100, learning_rate=0.1, max_depth=3, min_child_weight=1 \n",
      "[CV]  n_estimators=150, learning_rate=0.05, max_depth=9, min_child_weight=1, score=0.703270716054, total=   5.9s\n",
      "[CV] n_estimators=100, learning_rate=0.1, max_depth=3, min_child_weight=1 \n",
      "[CV]  n_estimators=100, learning_rate=0.05, max_depth=12, min_child_weight=1, score=0.690968132156, total=   6.1s\n",
      "[CV] n_estimators=150, learning_rate=0.1, max_depth=3, min_child_weight=1 \n",
      "[CV]  n_estimators=100, learning_rate=0.05, max_depth=12, min_child_weight=1, score=0.693553496488, total=   6.1s\n",
      "[CV] n_estimators=150, learning_rate=0.1, max_depth=3, min_child_weight=1 \n",
      "[CV]  n_estimators=100, learning_rate=0.1, max_depth=3, min_child_weight=1, score=0.69463707741, total=   1.4s\n",
      "[CV] n_estimators=150, learning_rate=0.1, max_depth=3, min_child_weight=1 \n",
      "[CV]  n_estimators=100, learning_rate=0.05, max_depth=12, min_child_weight=1, score=0.699388988122, total=   6.0s\n",
      "[CV] n_estimators=100, learning_rate=0.1, max_depth=6, min_child_weight=1 \n",
      "[CV]  n_estimators=100, learning_rate=0.1, max_depth=3, min_child_weight=1, score=0.705802484667, total=   1.7s\n",
      "[CV] n_estimators=100, learning_rate=0.1, max_depth=6, min_child_weight=1 \n",
      "[CV]  n_estimators=150, learning_rate=0.1, max_depth=3, min_child_weight=1, score=0.694193089579, total=   2.0s\n",
      "[CV] n_estimators=100, learning_rate=0.1, max_depth=6, min_child_weight=1 \n"
     ]
    },
    {
     "name": "stderr",
     "output_type": "stream",
     "text": [
      "[Parallel(n_jobs=-1)]: Done  25 tasks      | elapsed:   16.5s\n"
     ]
    },
    {
     "name": "stdout",
     "output_type": "stream",
     "text": [
      "[CV]  n_estimators=150, learning_rate=0.1, max_depth=3, min_child_weight=1, score=0.706301838591, total=   2.0s\n",
      "[CV] n_estimators=150, learning_rate=0.1, max_depth=6, min_child_weight=1 \n",
      "[CV]  n_estimators=150, learning_rate=0.1, max_depth=3, min_child_weight=1, score=0.694556793606, total=   2.3s\n",
      "[CV] n_estimators=150, learning_rate=0.1, max_depth=6, min_child_weight=1 \n",
      "[CV]  n_estimators=100, learning_rate=0.1, max_depth=6, min_child_weight=1, score=0.6954102598, total=   2.6s\n",
      "[CV] n_estimators=150, learning_rate=0.1, max_depth=6, min_child_weight=1 \n",
      "[CV]  n_estimators=100, learning_rate=0.1, max_depth=6, min_child_weight=1, score=0.695566606498, total=   2.5s\n",
      "[CV] n_estimators=100, learning_rate=0.1, max_depth=9, min_child_weight=1 \n",
      "[CV]  n_estimators=150, learning_rate=0.05, max_depth=12, min_child_weight=1, score=0.691075958878, total=   8.7s\n",
      "[CV] n_estimators=100, learning_rate=0.1, max_depth=9, min_child_weight=1 \n",
      "[CV]  n_estimators=150, learning_rate=0.05, max_depth=12, min_child_weight=1, score=0.69319364, total=   8.4s\n",
      "[CV] n_estimators=100, learning_rate=0.1, max_depth=9, min_child_weight=1 \n",
      "[CV]  n_estimators=100, learning_rate=0.1, max_depth=6, min_child_weight=1, score=0.707220210421, total=   2.6s\n",
      "[CV] n_estimators=150, learning_rate=0.1, max_depth=9, min_child_weight=1 \n",
      "[CV]  n_estimators=150, learning_rate=0.05, max_depth=12, min_child_weight=1, score=0.699387744826, total=   8.1s\n",
      "[CV] n_estimators=150, learning_rate=0.1, max_depth=9, min_child_weight=1 \n",
      "[CV]  n_estimators=150, learning_rate=0.1, max_depth=6, min_child_weight=1, score=0.696647491866, total=   3.8s\n",
      "[CV] n_estimators=150, learning_rate=0.1, max_depth=9, min_child_weight=1 \n"
     ]
    },
    {
     "name": "stderr",
     "output_type": "stream",
     "text": [
      "[Parallel(n_jobs=-1)]: Done  34 tasks      | elapsed:   21.8s\n"
     ]
    },
    {
     "name": "stdout",
     "output_type": "stream",
     "text": [
      "[CV]  n_estimators=150, learning_rate=0.1, max_depth=6, min_child_weight=1, score=0.695326661193, total=   3.8s\n",
      "[CV] n_estimators=100, learning_rate=0.1, max_depth=12, min_child_weight=1 \n",
      "[CV]  n_estimators=150, learning_rate=0.1, max_depth=6, min_child_weight=1, score=0.707316385931, total=   3.6s\n",
      "[CV] n_estimators=100, learning_rate=0.1, max_depth=12, min_child_weight=1 \n",
      "[CV]  n_estimators=100, learning_rate=0.1, max_depth=9, min_child_weight=1, score=0.693506392589, total=   3.7s\n",
      "[CV] n_estimators=100, learning_rate=0.1, max_depth=12, min_child_weight=1 \n",
      "[CV]  n_estimators=100, learning_rate=0.1, max_depth=9, min_child_weight=1, score=0.69412475819, total=   4.0s\n",
      "[CV] n_estimators=150, learning_rate=0.1, max_depth=12, min_child_weight=1 \n",
      "[CV]  n_estimators=100, learning_rate=0.1, max_depth=9, min_child_weight=1, score=0.703883933984, total=   3.7s\n",
      "[CV] n_estimators=150, learning_rate=0.1, max_depth=12, min_child_weight=1 \n",
      "[CV]  n_estimators=150, learning_rate=0.1, max_depth=9, min_child_weight=1, score=0.693854064443, total=   5.3s\n",
      "[CV] n_estimators=150, learning_rate=0.1, max_depth=12, min_child_weight=1 \n",
      "[CV]  n_estimators=150, learning_rate=0.1, max_depth=9, min_child_weight=1, score=0.692646638286, total=   5.3s\n",
      "[CV] n_estimators=100, learning_rate=0.15, max_depth=3, min_child_weight=1 \n",
      "[CV]  n_estimators=150, learning_rate=0.1, max_depth=9, min_child_weight=1, score=0.702859841049, total=   5.3s\n",
      "[CV] n_estimators=100, learning_rate=0.15, max_depth=3, min_child_weight=1 \n",
      "[CV]  n_estimators=100, learning_rate=0.1, max_depth=12, min_child_weight=1, score=0.690349466037, total=   5.1s\n",
      "[CV] n_estimators=100, learning_rate=0.15, max_depth=3, min_child_weight=1 \n",
      "[CV]  n_estimators=100, learning_rate=0.15, max_depth=3, min_child_weight=1, score=0.694972837829, total=   1.4s\n",
      "[CV] n_estimators=150, learning_rate=0.15, max_depth=3, min_child_weight=1 \n",
      "[CV]  n_estimators=100, learning_rate=0.1, max_depth=12, min_child_weight=1, score=0.692165463645, total=   5.0s\n",
      "[CV] n_estimators=150, learning_rate=0.15, max_depth=3, min_child_weight=1 \n"
     ]
    },
    {
     "name": "stderr",
     "output_type": "stream",
     "text": [
      "[Parallel(n_jobs=-1)]: Done  45 tasks      | elapsed:   29.0s\n"
     ]
    },
    {
     "name": "stdout",
     "output_type": "stream",
     "text": [
      "[CV]  n_estimators=100, learning_rate=0.1, max_depth=12, min_child_weight=1, score=0.697206066364, total=   5.0s\n",
      "[CV] n_estimators=150, learning_rate=0.15, max_depth=3, min_child_weight=1 \n",
      "[CV]  n_estimators=100, learning_rate=0.15, max_depth=3, min_child_weight=1, score=0.705673200153, total=   1.3s\n",
      "[CV] n_estimators=100, learning_rate=0.15, max_depth=6, min_child_weight=1 \n",
      "[CV]  n_estimators=100, learning_rate=0.15, max_depth=3, min_child_weight=1, score=0.694639058096, total=   1.5s\n",
      "[CV] n_estimators=100, learning_rate=0.15, max_depth=6, min_child_weight=1 \n",
      "[CV]  n_estimators=150, learning_rate=0.15, max_depth=3, min_child_weight=1, score=0.694957525078, total=   2.0s\n",
      "[CV] n_estimators=100, learning_rate=0.15, max_depth=6, min_child_weight=1 \n",
      "[CV]  n_estimators=150, learning_rate=0.15, max_depth=3, min_child_weight=1, score=0.695149519569, total=   2.1s\n",
      "[CV] n_estimators=150, learning_rate=0.15, max_depth=6, min_child_weight=1 \n",
      "[CV]  n_estimators=150, learning_rate=0.15, max_depth=3, min_child_weight=1, score=0.707455912833, total=   2.0s\n",
      "[CV] n_estimators=150, learning_rate=0.15, max_depth=6, min_child_weight=1 \n",
      "[CV]  n_estimators=150, learning_rate=0.1, max_depth=12, min_child_weight=1, score=0.689350795073, total=   7.4s\n",
      "[CV] n_estimators=150, learning_rate=0.15, max_depth=6, min_child_weight=1 \n",
      "[CV]  n_estimators=100, learning_rate=0.15, max_depth=6, min_child_weight=1, score=0.694858754871, total=   2.4s\n",
      "[CV] n_estimators=100, learning_rate=0.15, max_depth=9, min_child_weight=1 \n",
      "[CV]  n_estimators=150, learning_rate=0.1, max_depth=12, min_child_weight=1, score=0.690657870223, total=   7.4s\n",
      "[CV] n_estimators=100, learning_rate=0.15, max_depth=9, min_child_weight=1 \n",
      "[CV]  n_estimators=100, learning_rate=0.15, max_depth=6, min_child_weight=1, score=0.695126461653, total=   2.7s\n",
      "[CV] n_estimators=100, learning_rate=0.15, max_depth=9, min_child_weight=1 \n",
      "[CV]  n_estimators=100, learning_rate=0.15, max_depth=6, min_child_weight=1, score=0.706430412651, total=   2.5s\n",
      "[CV] n_estimators=150, learning_rate=0.15, max_depth=9, min_child_weight=1 \n"
     ]
    },
    {
     "name": "stderr",
     "output_type": "stream",
     "text": [
      "[Parallel(n_jobs=-1)]: Done  56 tasks      | elapsed:   34.1s\n"
     ]
    },
    {
     "name": "stdout",
     "output_type": "stream",
     "text": [
      "[CV]  n_estimators=150, learning_rate=0.1, max_depth=12, min_child_weight=1, score=0.696656916862, total=   7.4s\n",
      "[CV] n_estimators=150, learning_rate=0.15, max_depth=9, min_child_weight=1 \n",
      "[CV]  n_estimators=150, learning_rate=0.15, max_depth=6, min_child_weight=1, score=0.694374306407, total=   3.6s\n",
      "[CV] n_estimators=150, learning_rate=0.15, max_depth=9, min_child_weight=1 \n",
      "[CV]  n_estimators=150, learning_rate=0.15, max_depth=6, min_child_weight=1, score=0.693815019887, total=   3.6s\n",
      "[CV] n_estimators=100, learning_rate=0.15, max_depth=12, min_child_weight=1 \n",
      "[CV]  n_estimators=100, learning_rate=0.15, max_depth=9, min_child_weight=1, score=0.693881916986, total=   3.5s\n",
      "[CV] n_estimators=100, learning_rate=0.15, max_depth=12, min_child_weight=1 \n",
      "[CV]  n_estimators=150, learning_rate=0.15, max_depth=6, min_child_weight=1, score=0.705155110267, total=   3.6s\n",
      "[CV] n_estimators=100, learning_rate=0.15, max_depth=12, min_child_weight=1 \n",
      "[CV]  n_estimators=100, learning_rate=0.15, max_depth=9, min_child_weight=1, score=0.692038690637, total=   3.8s\n",
      "[CV] n_estimators=150, learning_rate=0.15, max_depth=12, min_child_weight=1 \n",
      "[CV]  n_estimators=100, learning_rate=0.15, max_depth=9, min_child_weight=1, score=0.70172013985, total=   3.7s\n",
      "[CV] n_estimators=150, learning_rate=0.15, max_depth=12, min_child_weight=1 \n",
      "[CV]  n_estimators=150, learning_rate=0.15, max_depth=9, min_child_weight=1, score=0.692389467843, total=   5.4s\n",
      "[CV] n_estimators=150, learning_rate=0.15, max_depth=12, min_child_weight=1 \n",
      "[CV]  n_estimators=150, learning_rate=0.15, max_depth=9, min_child_weight=1, score=0.691345177356, total=   5.5s\n"
     ]
    },
    {
     "name": "stderr",
     "output_type": "stream",
     "text": [
      "[Parallel(n_jobs=-1)]: Done  65 out of  72 | elapsed:   41.8s remaining:    4.5s\n"
     ]
    },
    {
     "name": "stdout",
     "output_type": "stream",
     "text": [
      "[CV]  n_estimators=100, learning_rate=0.15, max_depth=12, min_child_weight=1, score=0.689431903024, total=   5.3s\n",
      "[CV]  n_estimators=150, learning_rate=0.15, max_depth=9, min_child_weight=1, score=0.699892067378, total=   5.7s\n",
      "[CV]  n_estimators=100, learning_rate=0.15, max_depth=12, min_child_weight=1, score=0.687922797907, total=   4.8s\n",
      "[CV]  n_estimators=100, learning_rate=0.15, max_depth=12, min_child_weight=1, score=0.696327507314, total=   5.4s\n",
      "[CV]  n_estimators=150, learning_rate=0.15, max_depth=12, min_child_weight=1, score=0.68735831607, total=   6.5s\n",
      "[CV]  n_estimators=150, learning_rate=0.15, max_depth=12, min_child_weight=1, score=0.686155971397, total=   6.2s\n",
      "[CV]  n_estimators=150, learning_rate=0.15, max_depth=12, min_child_weight=1, score=0.693970647151, total=   4.5s\n"
     ]
    },
    {
     "name": "stderr",
     "output_type": "stream",
     "text": [
      "[Parallel(n_jobs=-1)]: Done  72 out of  72 | elapsed:   45.9s finished\n"
     ]
    },
    {
     "name": "stdout",
     "output_type": "stream",
     "text": [
      "XGBClassifier(base_score=0.5, booster='gbtree', colsample_bylevel=1,\n",
      "       colsample_bytree=1, gamma=0, learning_rate=0.1, max_delta_step=0,\n",
      "       max_depth=6, min_child_weight=1, missing=None, n_estimators=150,\n",
      "       n_jobs=1, nthread=None, objective='binary:logistic', random_state=0,\n",
      "       reg_alpha=0, reg_lambda=1, scale_pos_weight=1, seed=None,\n",
      "       silent=True, subsample=1)\n",
      "0.699763418586\n",
      "{'n_estimators': 150, 'learning_rate': 0.1, 'max_depth': 6, 'min_child_weight': 1}\n"
     ]
    }
   ],
   "source": [
    "grid_search.fit(X_Train, y_Train)\n",
    "\n",
    "print(\"{}\".format(grid_search.best_estimator_))\n",
    "print(\"{}\".format(grid_search.best_score_))\n",
    "print(\"{}\".format(grid_search.best_params_))\n",
    "# print(\"{}\".format(grid_search.scorer_ ))\n",
    "# print(\"{}\".format(grid_search.cv_results_))"
   ]
  },
  {
   "cell_type": "code",
   "execution_count": 70,
   "metadata": {},
   "outputs": [
    {
     "name": "stdout",
     "output_type": "stream",
     "text": [
      "{'n_estimators': 100, 'learning_rate': 0.05, 'max_depth': 3, 'min_child_weight': 1} / ROC_AUC SCORE: 0.70\n",
      "{'n_estimators': 150, 'learning_rate': 0.05, 'max_depth': 3, 'min_child_weight': 1} / ROC_AUC SCORE: 0.70\n",
      "{'n_estimators': 100, 'learning_rate': 0.05, 'max_depth': 6, 'min_child_weight': 1} / ROC_AUC SCORE: 0.70\n",
      "{'n_estimators': 150, 'learning_rate': 0.05, 'max_depth': 6, 'min_child_weight': 1} / ROC_AUC SCORE: 0.70\n",
      "{'n_estimators': 100, 'learning_rate': 0.05, 'max_depth': 9, 'min_child_weight': 1} / ROC_AUC SCORE: 0.70\n",
      "{'n_estimators': 150, 'learning_rate': 0.05, 'max_depth': 9, 'min_child_weight': 1} / ROC_AUC SCORE: 0.70\n",
      "{'n_estimators': 100, 'learning_rate': 0.05, 'max_depth': 12, 'min_child_weight': 1} / ROC_AUC SCORE: 0.69\n",
      "{'n_estimators': 150, 'learning_rate': 0.05, 'max_depth': 12, 'min_child_weight': 1} / ROC_AUC SCORE: 0.69\n",
      "{'n_estimators': 100, 'learning_rate': 0.1, 'max_depth': 3, 'min_child_weight': 1} / ROC_AUC SCORE: 0.70\n",
      "{'n_estimators': 150, 'learning_rate': 0.1, 'max_depth': 3, 'min_child_weight': 1} / ROC_AUC SCORE: 0.70\n",
      "{'n_estimators': 100, 'learning_rate': 0.1, 'max_depth': 6, 'min_child_weight': 1} / ROC_AUC SCORE: 0.70\n",
      "{'n_estimators': 150, 'learning_rate': 0.1, 'max_depth': 6, 'min_child_weight': 1} / ROC_AUC SCORE: 0.70\n",
      "{'n_estimators': 100, 'learning_rate': 0.1, 'max_depth': 9, 'min_child_weight': 1} / ROC_AUC SCORE: 0.70\n",
      "{'n_estimators': 150, 'learning_rate': 0.1, 'max_depth': 9, 'min_child_weight': 1} / ROC_AUC SCORE: 0.70\n",
      "{'n_estimators': 100, 'learning_rate': 0.1, 'max_depth': 12, 'min_child_weight': 1} / ROC_AUC SCORE: 0.69\n",
      "{'n_estimators': 150, 'learning_rate': 0.1, 'max_depth': 12, 'min_child_weight': 1} / ROC_AUC SCORE: 0.69\n",
      "{'n_estimators': 100, 'learning_rate': 0.15, 'max_depth': 3, 'min_child_weight': 1} / ROC_AUC SCORE: 0.70\n",
      "{'n_estimators': 150, 'learning_rate': 0.15, 'max_depth': 3, 'min_child_weight': 1} / ROC_AUC SCORE: 0.70\n",
      "{'n_estimators': 100, 'learning_rate': 0.15, 'max_depth': 6, 'min_child_weight': 1} / ROC_AUC SCORE: 0.70\n",
      "{'n_estimators': 150, 'learning_rate': 0.15, 'max_depth': 6, 'min_child_weight': 1} / ROC_AUC SCORE: 0.70\n",
      "{'n_estimators': 100, 'learning_rate': 0.15, 'max_depth': 9, 'min_child_weight': 1} / ROC_AUC SCORE: 0.70\n",
      "{'n_estimators': 150, 'learning_rate': 0.15, 'max_depth': 9, 'min_child_weight': 1} / ROC_AUC SCORE: 0.69\n",
      "{'n_estimators': 100, 'learning_rate': 0.15, 'max_depth': 12, 'min_child_weight': 1} / ROC_AUC SCORE: 0.69\n",
      "{'n_estimators': 150, 'learning_rate': 0.15, 'max_depth': 12, 'min_child_weight': 1} / ROC_AUC SCORE: 0.69\n"
     ]
    }
   ],
   "source": [
    "for i, param in enumerate(grid_search.cv_results_['params']):\n",
    "    print(\"{} / ROC_AUC SCORE: {:.2f}\".format(param, grid_search.cv_results_['mean_test_score'][i]))"
   ]
  },
  {
   "cell_type": "markdown",
   "metadata": {},
   "source": [
    "## RandomForest"
   ]
  },
  {
   "cell_type": "code",
   "execution_count": 71,
   "metadata": {},
   "outputs": [],
   "source": [
    "from sklearn import metrics, model_selection\n",
    "from sklearn import ensemble"
   ]
  },
  {
   "cell_type": "code",
   "execution_count": 73,
   "metadata": {},
   "outputs": [
    {
     "name": "stdout",
     "output_type": "stream",
     "text": [
      "Fitting 3 folds for each of 3 candidates, totalling 9 fits\n",
      "[CV] n_estimators=50 .................................................\n",
      "[CV] n_estimators=50 .................................................\n",
      "[CV] n_estimators=50 .................................................\n",
      "[CV] n_estimators=100 ................................................\n",
      "[CV] n_estimators=100 ................................................\n",
      "[CV] n_estimators=100 ................................................\n",
      "[CV] n_estimators=150 ................................................\n",
      "[CV] n_estimators=150 ................................................\n",
      "[CV] ............ n_estimators=50, score=0.660539609703, total=   5.6s\n",
      "[CV] ............ n_estimators=50, score=0.662303758872, total=   5.6s\n",
      "[CV] n_estimators=150 ................................................\n",
      "[CV] ............ n_estimators=50, score=0.669051371185, total=   5.7s\n"
     ]
    },
    {
     "name": "stderr",
     "output_type": "stream",
     "text": [
      "[Parallel(n_jobs=-1)]: Done   2 out of   9 | elapsed:    6.7s remaining:   23.3s\n",
      "[Parallel(n_jobs=-1)]: Done   3 out of   9 | elapsed:    6.7s remaining:   13.5s\n"
     ]
    },
    {
     "name": "stdout",
     "output_type": "stream",
     "text": [
      "[CV] ........... n_estimators=100, score=0.667161930739, total=   9.8s\n"
     ]
    },
    {
     "name": "stderr",
     "output_type": "stream",
     "text": [
      "[Parallel(n_jobs=-1)]: Done   4 out of   9 | elapsed:   11.4s remaining:   14.3s\n"
     ]
    },
    {
     "name": "stdout",
     "output_type": "stream",
     "text": [
      "[CV] ........... n_estimators=100, score=0.663468780137, total=  11.1s\n"
     ]
    },
    {
     "name": "stderr",
     "output_type": "stream",
     "text": [
      "[Parallel(n_jobs=-1)]: Done   5 out of   9 | elapsed:   12.8s remaining:   10.2s\n"
     ]
    },
    {
     "name": "stdout",
     "output_type": "stream",
     "text": [
      "[CV] ........... n_estimators=100, score=0.671685682074, total=  11.2s\n"
     ]
    },
    {
     "name": "stderr",
     "output_type": "stream",
     "text": [
      "[Parallel(n_jobs=-1)]: Done   6 out of   9 | elapsed:   13.0s remaining:    6.5s\n"
     ]
    },
    {
     "name": "stdout",
     "output_type": "stream",
     "text": [
      "[CV] ........... n_estimators=150, score=0.664848712657, total=  14.9s\n"
     ]
    },
    {
     "name": "stderr",
     "output_type": "stream",
     "text": [
      "[Parallel(n_jobs=-1)]: Done   7 out of   9 | elapsed:   17.1s remaining:    4.9s\n"
     ]
    },
    {
     "name": "stdout",
     "output_type": "stream",
     "text": [
      "[CV] ........... n_estimators=150, score=0.668191086054, total=  15.4s\n",
      "[CV] ............ n_estimators=150, score=0.67157179985, total=  10.5s\n"
     ]
    },
    {
     "name": "stderr",
     "output_type": "stream",
     "text": [
      "[Parallel(n_jobs=-1)]: Done   9 out of   9 | elapsed:   18.8s remaining:    0.0s\n",
      "[Parallel(n_jobs=-1)]: Done   9 out of   9 | elapsed:   18.8s finished\n"
     ]
    },
    {
     "name": "stdout",
     "output_type": "stream",
     "text": [
      "RandomForestClassifier(bootstrap=True, class_weight=None, criterion='gini',\n",
      "            max_depth=None, max_features='auto', max_leaf_nodes=None,\n",
      "            min_impurity_decrease=0.0, min_impurity_split=None,\n",
      "            min_samples_leaf=1, min_samples_split=2,\n",
      "            min_weight_fraction_leaf=0.0, n_estimators=150, n_jobs=1,\n",
      "            oob_score=False, random_state=None, verbose=0,\n",
      "            warm_start=False)\n",
      "0.668203824088\n",
      "{'n_estimators': 150}\n"
     ]
    }
   ],
   "source": [
    "rf = ensemble.RandomForestClassifier()\n",
    "param_dist = {\n",
    "#               \"max_depth\": [-1], # default -1\n",
    "#               \"learning_rate\" : [0.05,0.1, 0.15], # default 0.1\n",
    "#               \"num_leaves\": [31, 63], # default 31\n",
    "              \"n_estimators\": [50, 100, 150] # default 100\n",
    "             }\n",
    "grid_search = model_selection.GridSearchCV(rf, n_jobs=-1, param_grid=param_dist, cv = 3, scoring=\"roc_auc\", verbose=10)\n",
    "grid_search.fit(X_Train,y_Train)\n",
    "\n",
    "print(\"{}\".format(grid_search.best_estimator_))\n",
    "print(\"{}\".format(grid_search.best_score_))\n",
    "print(\"{}\".format(grid_search.best_params_))"
   ]
  },
  {
   "cell_type": "code",
   "execution_count": 74,
   "metadata": {},
   "outputs": [
    {
     "name": "stdout",
     "output_type": "stream",
     "text": [
      "{'n_estimators': 50} / ROC_AUC SCORE: 0.66\n",
      "{'n_estimators': 100} / ROC_AUC SCORE: 0.67\n",
      "{'n_estimators': 150} / ROC_AUC SCORE: 0.67\n"
     ]
    }
   ],
   "source": [
    "for i, param in enumerate(grid_search.cv_results_['params']):\n",
    "    print(\"{} / ROC_AUC SCORE: {:.2f}\".format(param, grid_search.cv_results_['mean_test_score'][i]))"
   ]
  },
  {
   "cell_type": "code",
   "execution_count": null,
   "metadata": {},
   "outputs": [],
   "source": []
  }
 ],
 "metadata": {
  "kernelspec": {
   "display_name": "Python 2",
   "language": "python",
   "name": "python2"
  },
  "language_info": {
   "codemirror_mode": {
    "name": "ipython",
    "version": 2
   },
   "file_extension": ".py",
   "mimetype": "text/x-python",
   "name": "python",
   "nbconvert_exporter": "python",
   "pygments_lexer": "ipython2",
   "version": "2.7.15"
  }
 },
 "nbformat": 4,
 "nbformat_minor": 2
}
